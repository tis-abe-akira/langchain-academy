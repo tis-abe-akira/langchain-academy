{
  "cells": [
    {
      "cell_type": "markdown",
      "metadata": {
        "id": "view-in-github",
        "colab_type": "text"
      },
      "source": [
        "<a href=\"https://colab.research.google.com/github/tis-abe-akira/langchain-academy/blob/main/module-3/edit_state_human_feedback_ipynb.ipynb\" target=\"_parent\"><img src=\"https://colab.research.google.com/assets/colab-badge.svg\" alt=\"Open In Colab\"/></a>"
      ]
    },
    {
      "cell_type": "markdown",
      "id": "3b2f2448-21c3-4196-9e61-0b47e7d0048b",
      "metadata": {
        "id": "3b2f2448-21c3-4196-9e61-0b47e7d0048b"
      },
      "source": [
        "# Editing graph state\n",
        "\n",
        "## Review\n",
        "\n",
        "「人間がループの中に入る」ための動機について説明しました。\n",
        "\n",
        "(1) `承認` - エージェントを中断し、ユーザーに状態を提示して、ユーザーがアクションを承認できるようにします。\n",
        "\n",
        "(2) `デバッグ` - グラフを巻き戻して、問題を再現または回避できます。\n",
        "\n",
        "(3) `編集` - 状態を変更できます。\n",
        "\n",
        "ブレークポイントがユーザーの承認をサポートする方法を示しましたが、グラフが中断された後にグラフの状態を変更する方法はまだわかりません。\n",
        "\n",
        "\n",
        "## Goals\n",
        "\n",
        "それでは、グラフの状態を直接編集して、人間からのフィードバックを挿入する方法を示します。"
      ]
    },
    {
      "cell_type": "code",
      "execution_count": 1,
      "id": "95d26b8c-d958-4d21-9ca4-4636d3dfe45c",
      "metadata": {
        "id": "95d26b8c-d958-4d21-9ca4-4636d3dfe45c"
      },
      "outputs": [],
      "source": [
        "%%capture --no-stderr\n",
        "%pip install --quiet -U langgraph langchain_openai langgraph_sdk"
      ]
    },
    {
      "cell_type": "code",
      "execution_count": 2,
      "id": "d5948594",
      "metadata": {
        "id": "d5948594",
        "outputId": "d49dbf2e-263c-4f62-ff6f-fc23f2596989",
        "colab": {
          "base_uri": "https://localhost:8080/"
        }
      },
      "outputs": [
        {
          "name": "stdout",
          "output_type": "stream",
          "text": [
            "OPENAI_API_KEY: ··········\n"
          ]
        }
      ],
      "source": [
        "import os, getpass\n",
        "\n",
        "def _set_env(var: str):\n",
        "    if not os.environ.get(var):\n",
        "        os.environ[var] = getpass.getpass(f\"{var}: \")\n",
        "\n",
        "_set_env(\"OPENAI_API_KEY\")"
      ]
    },
    {
      "cell_type": "markdown",
      "id": "65a8df1f-a76a-4803-a532-ea9802106ac8",
      "metadata": {
        "id": "65a8df1f-a76a-4803-a532-ea9802106ac8"
      },
      "source": [
        "## Editing state\n",
        "\n",
        "以前に、ブレークポイントを紹介しました。\n",
        "\n",
        "グラフを中断し、次のノードを実行する前にユーザーの承認を待機するために使用しました。\n",
        "\n",
        "しかし、ブレークポイントは、[グラフの状態を変更する機会](https://langchain-ai.github.io/langgraph/how-tos/human_in_the_loop/edit-graph-state/)でもあります。\n",
        "\n",
        "`assistant`ノードの前にブレークポイントを設定して、エージェントを設定しましょう。"
      ]
    },
    {
      "cell_type": "code",
      "execution_count": 3,
      "id": "bcf24f05-ac2b-455e-846c-0c50ac86e1f4",
      "metadata": {
        "id": "bcf24f05-ac2b-455e-846c-0c50ac86e1f4"
      },
      "outputs": [],
      "source": [
        "from langchain_openai import ChatOpenAI\n",
        "\n",
        "def multiply(a: int, b: int) -> int:\n",
        "    \"\"\"Multiply a and b.\n",
        "\n",
        "    Args:\n",
        "        a: first int\n",
        "        b: second int\n",
        "    \"\"\"\n",
        "    return a * b\n",
        "\n",
        "# This will be a tool\n",
        "def add(a: int, b: int) -> int:\n",
        "    \"\"\"Adds a and b.\n",
        "\n",
        "    Args:\n",
        "        a: first int\n",
        "        b: second int\n",
        "    \"\"\"\n",
        "    return a + b\n",
        "\n",
        "def divide(a: int, b: int) -> float:\n",
        "    \"\"\"Adds a and b.\n",
        "\n",
        "    Args:\n",
        "        a: first int\n",
        "        b: second int\n",
        "    \"\"\"\n",
        "    return a / b\n",
        "\n",
        "tools = [add, multiply, divide]\n",
        "llm = ChatOpenAI(model=\"gpt-4o\")\n",
        "llm_with_tools = llm.bind_tools(tools)"
      ]
    },
    {
      "cell_type": "code",
      "execution_count": 4,
      "id": "5dfe84af-5c62-4c3f-8ed7-96b5261f0b7b",
      "metadata": {
        "id": "5dfe84af-5c62-4c3f-8ed7-96b5261f0b7b",
        "outputId": "0f843c2e-3b2f-4f46-c719-865b4fc4be0c",
        "colab": {
          "base_uri": "https://localhost:8080/",
          "height": 308
        }
      },
      "outputs": [
        {
          "output_type": "display_data",
          "data": {
            "image/jpeg": "[encoded data removed]",
            "text/plain": [
              "<IPython.core.display.Image object>"
            ]
          },
          "metadata": {}
        }
      ],
      "source": [
        "from IPython.display import Image, display\n",
        "\n",
        "from langgraph.checkpoint.memory import MemorySaver\n",
        "from langgraph.graph import MessagesState\n",
        "from langgraph.graph import START, StateGraph\n",
        "from langgraph.prebuilt import tools_condition, ToolNode\n",
        "\n",
        "from langchain_core.messages import HumanMessage, SystemMessage\n",
        "\n",
        "# System message\n",
        "sys_msg = SystemMessage(content=\"You are a helpful assistant tasked with performing arithmetic on a set of inputs.\")\n",
        "\n",
        "# Node\n",
        "def assistant(state: MessagesState):\n",
        "   return {\"messages\": [llm_with_tools.invoke([sys_msg] + state[\"messages\"])]}\n",
        "\n",
        "# Graph\n",
        "builder = StateGraph(MessagesState)\n",
        "\n",
        "# Define nodes: these do the work\n",
        "builder.add_node(\"assistant\", assistant)\n",
        "builder.add_node(\"tools\", ToolNode(tools))\n",
        "\n",
        "# Define edges: these determine the control flow\n",
        "builder.add_edge(START, \"assistant\")\n",
        "builder.add_conditional_edges(\n",
        "    \"assistant\",\n",
        "    # If the latest message (result) from assistant is a tool call -> tools_condition routes to tools\n",
        "    # If the latest message (result) from assistant is a not a tool call -> tools_condition routes to END\n",
        "    tools_condition,\n",
        ")\n",
        "builder.add_edge(\"tools\", \"assistant\")\n",
        "\n",
        "memory = MemorySaver()\n",
        "graph = builder.compile(interrupt_before=[\"assistant\"], checkpointer=memory)\n",
        "\n",
        "# Show\n",
        "display(Image(graph.get_graph(xray=True).draw_mermaid_png()))"
      ]
    },
    {
      "cell_type": "markdown",
      "id": "92a47fd5-1f60-41dc-9206-698ed8ece530",
      "metadata": {
        "id": "92a47fd5-1f60-41dc-9206-698ed8ece530"
      },
      "source": [
        "Let's run!\n",
        "\n",
        "チャットモデルが応答する前に、グラフが中断されていることがわかります。"
      ]
    },
    {
      "cell_type": "code",
      "execution_count": 5,
      "id": "a2ce488d-00e4-492e-a62c-dd98702c313f",
      "metadata": {
        "id": "a2ce488d-00e4-492e-a62c-dd98702c313f",
        "outputId": "5ef32581-a726-44ab-9e15-b08f3cee03a1",
        "colab": {
          "base_uri": "https://localhost:8080/"
        }
      },
      "outputs": [
        {
          "output_type": "stream",
          "name": "stdout",
          "text": [
            "================================\u001b[1m Human Message \u001b[0m=================================\n",
            "\n",
            "Multiply 2 and 3\n"
          ]
        }
      ],
      "source": [
        "# Input\n",
        "initial_input = {\"messages\": \"Multiply 2 and 3\"}\n",
        "\n",
        "# Thread\n",
        "thread = {\"configurable\": {\"thread_id\": \"1\"}}\n",
        "\n",
        "# Run the graph until the first interruption\n",
        "for event in graph.stream(initial_input, thread, stream_mode=\"values\"):\n",
        "    event['messages'][-1].pretty_print()"
      ]
    },
    {
      "cell_type": "code",
      "execution_count": 6,
      "id": "4be478ef-bd60-4d32-8a05-5f56c93a8396",
      "metadata": {
        "id": "4be478ef-bd60-4d32-8a05-5f56c93a8396",
        "outputId": "92de168e-7e2b-4790-b553-dc288b5f129a",
        "colab": {
          "base_uri": "https://localhost:8080/"
        }
      },
      "outputs": [
        {
          "output_type": "execute_result",
          "data": {
            "text/plain": [
              "StateSnapshot(values={'messages': [HumanMessage(content='Multiply 2 and 3', additional_kwargs={}, response_metadata={}, id='ca7ce13f-e3bd-4173-9a35-9262b95426fd')]}, next=('assistant',), config={'configurable': {'thread_id': '1', 'checkpoint_ns': '', 'checkpoint_id': '1ef9effc-3afa-6198-8000-5c94a1da6d29'}}, metadata={'source': 'loop', 'writes': None, 'thread_id': '1', 'step': 0, 'parents': {}}, created_at='2024-11-10T01:04:40.869079+00:00', parent_config={'configurable': {'thread_id': '1', 'checkpoint_ns': '', 'checkpoint_id': '1ef9effc-3af1-601b-bfff-58aa3be32b00'}}, tasks=(PregelTask(id='4ac1feee-f963-d2a5-3e42-edfee9f967f6', name='assistant', path=('__pregel_pull', 'assistant'), error=None, interrupts=(), state=None, result=None),))"
            ]
          },
          "metadata": {},
          "execution_count": 6
        }
      ],
      "source": [
        "state = graph.get_state(thread)\n",
        "state"
      ]
    },
    {
      "cell_type": "markdown",
      "id": "36ef63a1-2ab8-416d-babf-d35054e294f0",
      "metadata": {
        "id": "36ef63a1-2ab8-416d-babf-d35054e294f0"
      },
      "source": [
        "これで、状態の更新を直接適用できます。\n",
        "\n",
        "`messages`キーに対する更新は、`add_messages`レデューサーを使用することに注意してください。\n",
        "\n",
        "* 既存のメッセージを上書きする場合は、メッセージの`id`を指定できます。\n",
        "* 単にメッセージのリストに追加する場合は、以下のように`id`を指定せずにメッセージを渡すことができます。"
      ]
    },
    {
      "cell_type": "code",
      "execution_count": 7,
      "id": "9179cff1-e529-473a-9ce2-e23b932c2063",
      "metadata": {
        "id": "9179cff1-e529-473a-9ce2-e23b932c2063",
        "outputId": "c9649bfb-d576-424e-dee1-c979a6962804",
        "colab": {
          "base_uri": "https://localhost:8080/"
        }
      },
      "outputs": [
        {
          "output_type": "execute_result",
          "data": {
            "text/plain": [
              "{'configurable': {'thread_id': '1',\n",
              "  'checkpoint_ns': '',\n",
              "  'checkpoint_id': '1ef9efff-3069-63da-8001-c8b9676a8919'}}"
            ]
          },
          "metadata": {},
          "execution_count": 7
        }
      ],
      "source": [
        "graph.update_state(\n",
        "    thread,\n",
        "    {\"messages\": [HumanMessage(content=\"No, actually multiply 3 and 3!\")]},\n",
        ")"
      ]
    },
    {
      "cell_type": "markdown",
      "id": "d77b8d6a-8c7b-4f7a-b723-121af25ac829",
      "metadata": {
        "id": "d77b8d6a-8c7b-4f7a-b723-121af25ac829"
      },
      "source": [
        "見てみましょう。\n",
        "\n",
        "新しいメッセージで`update_state`を呼び出しました。\n",
        "\n",
        "`add_messages`レデューサーは、`messages`という状態キーにメッセージを追加します。"
      ]
    },
    {
      "cell_type": "code",
      "execution_count": 8,
      "id": "141b6aab-ec6d-44f3-beb1-6c22ac5f2158",
      "metadata": {
        "id": "141b6aab-ec6d-44f3-beb1-6c22ac5f2158",
        "outputId": "20c9388c-fc99-47e2-b1f5-1ad44483c670",
        "colab": {
          "base_uri": "https://localhost:8080/"
        }
      },
      "outputs": [
        {
          "output_type": "stream",
          "name": "stdout",
          "text": [
            "================================\u001b[1m Human Message \u001b[0m=================================\n",
            "\n",
            "Multiply 2 and 3\n",
            "================================\u001b[1m Human Message \u001b[0m=================================\n",
            "\n",
            "No, actually multiply 3 and 3!\n"
          ]
        }
      ],
      "source": [
        "new_state = graph.get_state(thread).values\n",
        "for m in new_state['messages']:\n",
        "    m.pretty_print()"
      ]
    },
    {
      "cell_type": "markdown",
      "id": "e4041959-cc3a-4168-8cf7-06d1711921d8",
      "metadata": {
        "id": "e4041959-cc3a-4168-8cf7-06d1711921d8"
      },
      "source": [
        "それでは、`None`を渡して現在の状態から続行することで、エージェントを進めましょう。\n",
        "\n",
        "現在の状態を発行し、残りのノードを実行します。"
      ]
    },
    {
      "cell_type": "code",
      "execution_count": 9,
      "id": "f166bed2-87c9-41ec-b235-0305721c2d6b",
      "metadata": {
        "id": "f166bed2-87c9-41ec-b235-0305721c2d6b",
        "outputId": "8559ffa5-ed02-4e1d-aff5-e6d27d8ef49d",
        "colab": {
          "base_uri": "https://localhost:8080/"
        }
      },
      "outputs": [
        {
          "output_type": "stream",
          "name": "stdout",
          "text": [
            "================================\u001b[1m Human Message \u001b[0m=================================\n",
            "\n",
            "No, actually multiply 3 and 3!\n",
            "==================================\u001b[1m Ai Message \u001b[0m==================================\n",
            "Tool Calls:\n",
            "  multiply (call_GNWohcHOYHmg31B4OK202uTD)\n",
            " Call ID: call_GNWohcHOYHmg31B4OK202uTD\n",
            "  Args:\n",
            "    a: 3\n",
            "    b: 3\n",
            "=================================\u001b[1m Tool Message \u001b[0m=================================\n",
            "Name: multiply\n",
            "\n",
            "9\n"
          ]
        }
      ],
      "source": [
        "for event in graph.stream(None, thread, stream_mode=\"values\"):\n",
        "    event['messages'][-1].pretty_print()"
      ]
    },
    {
      "cell_type": "markdown",
      "id": "b18dc1ca",
      "metadata": {
        "id": "b18dc1ca"
      },
      "source": [
        "これで、`assistant`に戻り、`breakpoint`があります。\n",
        "\n",
        "`None`を渡して、続行することができます。"
      ]
    },
    {
      "cell_type": "code",
      "execution_count": 10,
      "id": "f5952731-0170-4589-a399-ee787df35400",
      "metadata": {
        "id": "f5952731-0170-4589-a399-ee787df35400",
        "outputId": "6b905215-f997-45b8-d097-44910a1e9a60",
        "colab": {
          "base_uri": "https://localhost:8080/"
        }
      },
      "outputs": [
        {
          "output_type": "stream",
          "name": "stdout",
          "text": [
            "=================================\u001b[1m Tool Message \u001b[0m=================================\n",
            "Name: multiply\n",
            "\n",
            "9\n",
            "==================================\u001b[1m Ai Message \u001b[0m==================================\n",
            "\n",
            "The result of multiplying 3 and 3 is 9.\n"
          ]
        }
      ],
      "source": [
        "for event in graph.stream(None, thread, stream_mode=\"values\"):\n",
        "    event['messages'][-1].pretty_print()"
      ]
    },
    {
      "cell_type": "markdown",
      "id": "bc22c3e9-b00c-4ead-b752-a682b45b3718",
      "metadata": {
        "id": "bc22c3e9-b00c-4ead-b752-a682b45b3718"
      },
      "source": [
        "### Editing graph state in Studio\n",
        "\n",
        "--\n",
        "\n",
        "**⚠️ DISCLAIMER**\n",
        "\n",
        "*Running Studio currently requires a Mac. If you are not using a Mac, then skip this step.*\n",
        "\n",
        "*Also, if you are running this notebook in CoLab, then skip this step.*\n",
        "\n",
        "--\n",
        "\n",
        "Let's load our `agent` in the Studio UI, which uses `module-3/studio/agent.py` set in `module-3/studio/langgraph.json`.\n",
        "\n",
        "### Editing graph state with LangGraph API\n",
        "\n",
        "We can interact with our agent via the SDK.\n",
        "\n",
        "![Screenshot 2024-08-26 at 9.59.19 AM.png](https://cdn.prod.website-files.com/65b8cd72835ceeacd4449a53/66dbaf2fbfb576f8e53ed930_edit-state-human-feedback1.png)\n",
        "\n",
        "Let's get the URL for the local deployment from Studio.\n",
        "\n",
        "The LangGraph API [supports editing graph state](https://langchain-ai.github.io/langgraph/cloud/how-tos/human_in_the_loop_edit_state/#initial-invocation)."
      ]
    },
    {
      "cell_type": "code",
      "execution_count": null,
      "id": "020efeba-fa80-4839-81f9-9ce228f9844e",
      "metadata": {
        "id": "020efeba-fa80-4839-81f9-9ce228f9844e"
      },
      "outputs": [],
      "source": [
        "import platform\n",
        "\n",
        "if 'google.colab' in str(get_ipython()) or platform.system() != 'Darwin':\n",
        "    raise Exception(\"Unfortunately LangGraph Studio is currently not supported on Google Colab or requires a Mac\")"
      ]
    },
    {
      "cell_type": "code",
      "execution_count": null,
      "id": "642aabab-f822-4917-9d66-3314ac5008fd",
      "metadata": {
        "id": "642aabab-f822-4917-9d66-3314ac5008fd"
      },
      "outputs": [],
      "source": [
        "from langgraph_sdk import get_client\n",
        "client = get_client(url=\"http://localhost:56091\")"
      ]
    },
    {
      "cell_type": "markdown",
      "id": "be74cb09",
      "metadata": {
        "id": "be74cb09"
      },
      "source": [
        "Our agent is defined in `assistant/agent.py`.\n",
        "\n",
        "If you look at the code, you'll see that it *does not* have a breakpoint!\n",
        "\n",
        "Of course, we can add it to `agent.py`, but one very nice feature of the API is that we can pass in a breakpoint!\n",
        "\n",
        "Here, we pass a `interrupt_before=[\"assistant\"]`."
      ]
    },
    {
      "cell_type": "code",
      "execution_count": null,
      "id": "1c352f9e-6a0f-4a94-a083-b85b0233efa9",
      "metadata": {
        "id": "1c352f9e-6a0f-4a94-a083-b85b0233efa9",
        "outputId": "75eae0c6-43ff-4977-dfb1-d90a0a5e38fb"
      },
      "outputs": [
        {
          "name": "stdout",
          "output_type": "stream",
          "text": [
            "Receiving new event of type: metadata...\n",
            "--------------------------------------------------\n",
            "Receiving new event of type: values...\n",
            "{'content': 'Multiply 2 and 3', 'additional_kwargs': {}, 'response_metadata': {}, 'type': 'human', 'name': None, 'id': '882dabe4-b877-4d71-bd09-c34cb97c4f46', 'example': False}\n",
            "--------------------------------------------------\n"
          ]
        }
      ],
      "source": [
        "initial_input = {\"messages\": \"Multiply 2 and 3\"}\n",
        "thread = await client.threads.create()\n",
        "async for chunk in client.runs.stream(\n",
        "    thread[\"thread_id\"],\n",
        "    \"agent\",\n",
        "    input=initial_input,\n",
        "    stream_mode=\"values\",\n",
        "    interrupt_before=[\"assistant\"],\n",
        "):\n",
        "    print(f\"Receiving new event of type: {chunk.event}...\")\n",
        "    messages = chunk.data.get('messages', [])\n",
        "    if messages:\n",
        "        print(messages[-1])\n",
        "    print(\"-\" * 50)"
      ]
    },
    {
      "cell_type": "markdown",
      "id": "13065dd9-5f43-47d6-ac2a-9dc15c0c54e6",
      "metadata": {
        "id": "13065dd9-5f43-47d6-ac2a-9dc15c0c54e6"
      },
      "source": [
        "We can get the current state"
      ]
    },
    {
      "cell_type": "code",
      "execution_count": null,
      "id": "4da2c464-3e71-496a-badc-671aeee168b6",
      "metadata": {
        "id": "4da2c464-3e71-496a-badc-671aeee168b6",
        "outputId": "447dda9e-9008-46ad-d818-a4ffb6f45f65"
      },
      "outputs": [
        {
          "data": {
            "text/plain": [
              "{'values': {'messages': [{'content': 'Multiply 2 and 3',\n",
              "    'additional_kwargs': {},\n",
              "    'response_metadata': {},\n",
              "    'type': 'human',\n",
              "    'name': None,\n",
              "    'id': '882dabe4-b877-4d71-bd09-c34cb97c4f46',\n",
              "    'example': False}]},\n",
              " 'next': ['assistant'],\n",
              " 'tasks': [{'id': 'a71c0b80-a679-57cb-aa59-a1655b763480',\n",
              "   'name': 'assistant',\n",
              "   'error': None,\n",
              "   'interrupts': [],\n",
              "   'state': None}],\n",
              " 'metadata': {'step': 0,\n",
              "  'run_id': '1ef6a41c-ea63-663f-b3e8-4f001bf0bf53',\n",
              "  'source': 'loop',\n",
              "  'writes': None,\n",
              "  'parents': {},\n",
              "  'user_id': '',\n",
              "  'graph_id': 'agent',\n",
              "  'thread_id': 'a95ffa54-2435-4a47-a9da-e886369ca8ee',\n",
              "  'created_by': 'system',\n",
              "  'assistant_id': 'fe096781-5601-53d2-b2f6-0d3403f7e9ca'},\n",
              " 'created_at': '2024-09-03T22:13:54.466695+00:00',\n",
              " 'checkpoint_id': '1ef6a41c-ead7-637b-8000-8c6a7b98379e',\n",
              " 'parent_checkpoint_id': '1ef6a41c-ead3-637d-bfff-397ebdb4f2ea'}"
            ]
          },
          "execution_count": 11,
          "metadata": {},
          "output_type": "execute_result"
        }
      ],
      "source": [
        "current_state = await client.threads.get_state(thread['thread_id'])\n",
        "current_state"
      ]
    },
    {
      "cell_type": "markdown",
      "id": "4527bbf1-0927-41a6-aeef-d15e32bbbdc3",
      "metadata": {
        "id": "4527bbf1-0927-41a6-aeef-d15e32bbbdc3"
      },
      "source": [
        "We can look at the last message in state."
      ]
    },
    {
      "cell_type": "code",
      "execution_count": null,
      "id": "801ae2d9-0551-46b8-aee2-82293cee4011",
      "metadata": {
        "id": "801ae2d9-0551-46b8-aee2-82293cee4011",
        "outputId": "ee8caa7f-e08e-4bf5-c04b-9f44d62b8645"
      },
      "outputs": [
        {
          "data": {
            "text/plain": [
              "{'content': 'Multiply 2 and 3',\n",
              " 'additional_kwargs': {},\n",
              " 'response_metadata': {},\n",
              " 'type': 'human',\n",
              " 'name': None,\n",
              " 'id': '882dabe4-b877-4d71-bd09-c34cb97c4f46',\n",
              " 'example': False}"
            ]
          },
          "execution_count": 12,
          "metadata": {},
          "output_type": "execute_result"
        }
      ],
      "source": [
        "last_message = current_state['values']['messages'][-1]\n",
        "last_message"
      ]
    },
    {
      "cell_type": "markdown",
      "id": "f0581ba8-db3d-474d-9042-b1c7f3461caf",
      "metadata": {
        "id": "f0581ba8-db3d-474d-9042-b1c7f3461caf"
      },
      "source": [
        "We can edit it!"
      ]
    },
    {
      "cell_type": "code",
      "execution_count": null,
      "id": "86b12be7-7e4a-40d0-8521-dced7c393c71",
      "metadata": {
        "id": "86b12be7-7e4a-40d0-8521-dced7c393c71",
        "outputId": "36202c9e-ebab-4922-fc9b-ebb0679c891a"
      },
      "outputs": [
        {
          "data": {
            "text/plain": [
              "{'content': 'No, actually multiply 3 and 3!',\n",
              " 'additional_kwargs': {},\n",
              " 'response_metadata': {},\n",
              " 'type': 'human',\n",
              " 'name': None,\n",
              " 'id': '882dabe4-b877-4d71-bd09-c34cb97c4f46',\n",
              " 'example': False}"
            ]
          },
          "execution_count": 13,
          "metadata": {},
          "output_type": "execute_result"
        }
      ],
      "source": [
        "last_message['content'] = \"No, actually multiply 3 and 3!\"\n",
        "last_message"
      ]
    },
    {
      "cell_type": "code",
      "execution_count": null,
      "id": "f84f2c24-f281-4591-90e5-de3a5547c9da",
      "metadata": {
        "id": "f84f2c24-f281-4591-90e5-de3a5547c9da",
        "outputId": "d2d6c14d-79d9-4c3c-db00-78617536c53f"
      },
      "outputs": [
        {
          "data": {
            "text/plain": [
              "{'content': 'No, actually multiply 3 and 3!',\n",
              " 'additional_kwargs': {},\n",
              " 'response_metadata': {},\n",
              " 'type': 'human',\n",
              " 'name': None,\n",
              " 'id': '882dabe4-b877-4d71-bd09-c34cb97c4f46',\n",
              " 'example': False}"
            ]
          },
          "execution_count": 14,
          "metadata": {},
          "output_type": "execute_result"
        }
      ],
      "source": [
        "last_message"
      ]
    },
    {
      "cell_type": "markdown",
      "id": "ce7b4280-6ae7-4246-9c87-44e0daa6c654",
      "metadata": {
        "id": "ce7b4280-6ae7-4246-9c87-44e0daa6c654"
      },
      "source": [
        "Remember, as we said before, updates to the `messages` key will use the same `add_messages` reducer.\n",
        "\n",
        "If we want to over-write the existing message, then we can supply the message `id`.\n",
        "\n",
        "Here, we did that. We only modified the message `content`, as shown above."
      ]
    },
    {
      "cell_type": "code",
      "execution_count": null,
      "id": "84d33b6e-32ff-4eca-8114-345e508f3481",
      "metadata": {
        "id": "84d33b6e-32ff-4eca-8114-345e508f3481",
        "outputId": "bb286b02-13e8-4301-d540-7919b29b38e5"
      },
      "outputs": [
        {
          "data": {
            "text/plain": [
              "{'configurable': {'thread_id': 'a95ffa54-2435-4a47-a9da-e886369ca8ee',\n",
              "  'checkpoint_ns': '',\n",
              "  'checkpoint_id': '1ef6a41d-cc8e-6979-8001-8c7c283b636c'},\n",
              " 'checkpoint_id': '1ef6a41d-cc8e-6979-8001-8c7c283b636c'}"
            ]
          },
          "execution_count": 15,
          "metadata": {},
          "output_type": "execute_result"
        }
      ],
      "source": [
        "await client.threads.update_state(thread['thread_id'], {\"messages\": last_message})"
      ]
    },
    {
      "cell_type": "markdown",
      "id": "1f07f0d1-7083-4827-babd-d3702eb59a37",
      "metadata": {
        "id": "1f07f0d1-7083-4827-babd-d3702eb59a37"
      },
      "source": [
        "Now, we resume by passing `None`."
      ]
    },
    {
      "cell_type": "code",
      "execution_count": null,
      "id": "ef18d12d-e0a6-487a-9f32-ad30e2634a20",
      "metadata": {
        "id": "ef18d12d-e0a6-487a-9f32-ad30e2634a20",
        "outputId": "1d6cc14b-835e-4729-f7db-97b836d16474"
      },
      "outputs": [
        {
          "name": "stdout",
          "output_type": "stream",
          "text": [
            "Receiving new event of type: metadata...\n",
            "--------------------------------------------------\n",
            "Receiving new event of type: values...\n",
            "{'content': 'No, actually multiply 3 and 3!', 'additional_kwargs': {'additional_kwargs': {}, 'response_metadata': {}, 'example': False}, 'response_metadata': {}, 'type': 'human', 'name': None, 'id': '882dabe4-b877-4d71-bd09-c34cb97c4f46', 'example': False}\n",
            "--------------------------------------------------\n",
            "Receiving new event of type: values...\n",
            "{'content': '', 'additional_kwargs': {'tool_calls': [{'index': 0, 'id': 'call_vi16je2EIikHuT7Aue2sd1qd', 'function': {'arguments': '{\"a\":3,\"b\":3}', 'name': 'multiply'}, 'type': 'function'}]}, 'response_metadata': {'finish_reason': 'tool_calls', 'model_name': 'gpt-4o-2024-05-13', 'system_fingerprint': 'fp_157b3831f5'}, 'type': 'ai', 'name': None, 'id': 'run-775b42f7-0590-4c54-aaeb-78599b1f12d2', 'example': False, 'tool_calls': [{'name': 'multiply', 'args': {'a': 3, 'b': 3}, 'id': 'call_vi16je2EIikHuT7Aue2sd1qd', 'type': 'tool_call'}], 'invalid_tool_calls': [], 'usage_metadata': None}\n",
            "--------------------------------------------------\n",
            "Receiving new event of type: values...\n",
            "{'content': '9', 'additional_kwargs': {}, 'response_metadata': {}, 'type': 'tool', 'name': 'multiply', 'id': '226bfbad-0cea-4900-80c5-761a62bd4bc1', 'tool_call_id': 'call_vi16je2EIikHuT7Aue2sd1qd', 'artifact': None, 'status': 'success'}\n",
            "--------------------------------------------------\n"
          ]
        }
      ],
      "source": [
        "async for chunk in client.runs.stream(\n",
        "    thread[\"thread_id\"],\n",
        "    assistant_id=\"agent\",\n",
        "    input=None,\n",
        "    stream_mode=\"values\",\n",
        "    interrupt_before=[\"assistant\"],\n",
        "):\n",
        "    print(f\"Receiving new event of type: {chunk.event}...\")\n",
        "    messages = chunk.data.get('messages', [])\n",
        "    if messages:\n",
        "        print(messages[-1])\n",
        "    print(\"-\" * 50)"
      ]
    },
    {
      "cell_type": "markdown",
      "id": "6a82dd35-cbc8-486d-8e20-10d0c4d138d6",
      "metadata": {
        "id": "6a82dd35-cbc8-486d-8e20-10d0c4d138d6"
      },
      "source": [
        "We get the result of the tool call as `9`, as expected."
      ]
    },
    {
      "cell_type": "code",
      "execution_count": null,
      "id": "1d1bb3c7-dc26-4c32-b3df-865f41ef3c73",
      "metadata": {
        "id": "1d1bb3c7-dc26-4c32-b3df-865f41ef3c73",
        "outputId": "a91eea15-1c8b-4485-f72f-6839bb3eafd3"
      },
      "outputs": [
        {
          "name": "stdout",
          "output_type": "stream",
          "text": [
            "Receiving new event of type: metadata...\n",
            "--------------------------------------------------\n",
            "Receiving new event of type: values...\n",
            "{'content': '9', 'additional_kwargs': {}, 'response_metadata': {}, 'type': 'tool', 'name': 'multiply', 'id': '226bfbad-0cea-4900-80c5-761a62bd4bc1', 'tool_call_id': 'call_vi16je2EIikHuT7Aue2sd1qd', 'artifact': None, 'status': 'success'}\n",
            "--------------------------------------------------\n",
            "Receiving new event of type: values...\n",
            "{'content': 'The result of multiplying 3 by 3 is 9.', 'additional_kwargs': {}, 'response_metadata': {'finish_reason': 'stop', 'model_name': 'gpt-4o-2024-05-13', 'system_fingerprint': 'fp_157b3831f5'}, 'type': 'ai', 'name': None, 'id': 'run-859bbf47-9f35-4e71-ae98-9d93ee49d16c', 'example': False, 'tool_calls': [], 'invalid_tool_calls': [], 'usage_metadata': None}\n",
            "--------------------------------------------------\n"
          ]
        }
      ],
      "source": [
        "async for chunk in client.runs.stream(\n",
        "    thread[\"thread_id\"],\n",
        "    assistant_id=\"agent\",\n",
        "    input=None,\n",
        "    stream_mode=\"values\",\n",
        "    interrupt_before=[\"assistant\"],\n",
        "):\n",
        "    print(f\"Receiving new event of type: {chunk.event}...\")\n",
        "    messages = chunk.data.get('messages', [])\n",
        "    if messages:\n",
        "        print(messages[-1])\n",
        "    print(\"-\" * 50)"
      ]
    },
    {
      "cell_type": "markdown",
      "id": "6914c5ca-27e4-421c-835a-9e4327dac12f",
      "metadata": {
        "id": "6914c5ca-27e4-421c-835a-9e4327dac12f"
      },
      "source": [
        "## Awaiting user input\n",
        "\n",
        "So, it's clear that we can edit our agent state after a breakpoint.\n",
        "\n",
        "Now, what if we want to allow for human feedback to perform this state update?\n",
        "\n",
        "We'll add a node that [serves as a placeholder for human feedback](https://langchain-ai.github.io/langgraph/how-tos/human_in_the_loop/wait-user-input/#setup) within our agent.\n",
        "\n",
        "This `human_feedback` node allow the user to add feedback directly to state.\n",
        "\n",
        "We specify the breakpoint using `interrupt_before` our `human_feedback` node.\n",
        "\n",
        "We set up a checkpointer to save the state of the graph up until this node."
      ]
    },
    {
      "cell_type": "code",
      "execution_count": null,
      "id": "e4b475ff-681f-4660-80dd-d6ade7bd48e3",
      "metadata": {
        "id": "e4b475ff-681f-4660-80dd-d6ade7bd48e3",
        "outputId": "21d39227-a3af-449e-df4f-7fcc58c0fbda"
      },
      "outputs": [
        {
          "data": {
            "image/jpeg": "[encoded data removed]",
            "text/plain": [
              "<IPython.core.display.Image object>"
            ]
          },
          "metadata": {},
          "output_type": "display_data"
        }
      ],
      "source": [
        "# System message\n",
        "sys_msg = SystemMessage(content=\"You are a helpful assistant tasked with performing arithmetic on a set of inputs.\")\n",
        "\n",
        "# no-op node that should be interrupted on\n",
        "def human_feedback(state: MessagesState):\n",
        "    pass\n",
        "\n",
        "# Assistant node\n",
        "def assistant(state: MessagesState):\n",
        "   return {\"messages\": [llm_with_tools.invoke([sys_msg] + state[\"messages\"])]}\n",
        "\n",
        "# Graph\n",
        "builder = StateGraph(MessagesState)\n",
        "\n",
        "# Define nodes: these do the work\n",
        "builder.add_node(\"assistant\", assistant)\n",
        "builder.add_node(\"tools\", ToolNode(tools))\n",
        "builder.add_node(\"human_feedback\", human_feedback)\n",
        "\n",
        "# Define edges: these determine the control flow\n",
        "builder.add_edge(START, \"human_feedback\")\n",
        "builder.add_edge(\"human_feedback\", \"assistant\")\n",
        "builder.add_conditional_edges(\n",
        "    \"assistant\",\n",
        "    # If the latest message (result) from assistant is a tool call -> tools_condition routes to tools\n",
        "    # If the latest message (result) from assistant is a not a tool call -> tools_condition routes to END\n",
        "    tools_condition,\n",
        ")\n",
        "builder.add_edge(\"tools\", \"human_feedback\")\n",
        "\n",
        "memory = MemorySaver()\n",
        "graph = builder.compile(interrupt_before=[\"human_feedback\"], checkpointer=memory)\n",
        "display(Image(graph.get_graph().draw_mermaid_png()))"
      ]
    },
    {
      "cell_type": "markdown",
      "id": "32d4ceb6-a224-4307-8196-3f53d367df5c",
      "metadata": {
        "id": "32d4ceb6-a224-4307-8196-3f53d367df5c"
      },
      "source": [
        "We will get feedback from the user.\n",
        "\n",
        "We use `.update_state` to update the state of the graph with the human response we get, as before.\n",
        "\n",
        "We use the `as_node=\"human_feedback\"` parameter to apply this state update as the specified node, `human_feedback`."
      ]
    },
    {
      "cell_type": "code",
      "execution_count": null,
      "id": "3fc7bcd6-660c-4a8a-ad8d-e6698dcf6201",
      "metadata": {
        "id": "3fc7bcd6-660c-4a8a-ad8d-e6698dcf6201",
        "outputId": "52a320c8-3ba5-4ecb-e2d7-335eb6f48ba9"
      },
      "outputs": [
        {
          "name": "stdout",
          "output_type": "stream",
          "text": [
            "================================\u001b[1m Human Message \u001b[0m=================================\n",
            "\n",
            "Multiply 2 and 3\n",
            "================================\u001b[1m Human Message \u001b[0m=================================\n",
            "\n",
            "no, multiply 3 and 3\n",
            "==================================\u001b[1m Ai Message \u001b[0m==================================\n",
            "Tool Calls:\n",
            "  multiply (call_sewrDyCrAJBQQecusUoT6OJ6)\n",
            " Call ID: call_sewrDyCrAJBQQecusUoT6OJ6\n",
            "  Args:\n",
            "    a: 3\n",
            "    b: 3\n",
            "=================================\u001b[1m Tool Message \u001b[0m=================================\n",
            "Name: multiply\n",
            "\n",
            "9\n"
          ]
        }
      ],
      "source": [
        "# Input\n",
        "initial_input = {\"messages\": \"Multiply 2 and 3\"}\n",
        "\n",
        "# Thread\n",
        "thread = {\"configurable\": {\"thread_id\": \"5\"}}\n",
        "\n",
        "# Run the graph until the first interruption\n",
        "for event in graph.stream(initial_input, thread, stream_mode=\"values\"):\n",
        "    event[\"messages\"][-1].pretty_print()\n",
        "\n",
        "# Get user input\n",
        "user_input = input(\"Tell me how you want to update the state: \")\n",
        "\n",
        "# We now update the state as if we are the human_feedback node\n",
        "graph.update_state(thread, {\"messages\": user_input}, as_node=\"human_feedback\")\n",
        "\n",
        "# Continue the graph execution\n",
        "for event in graph.stream(None, thread, stream_mode=\"values\"):\n",
        "    event[\"messages\"][-1].pretty_print()"
      ]
    },
    {
      "cell_type": "code",
      "execution_count": null,
      "id": "abf4cf5f-c0cb-4fdb-be6b-271ae4e967e2",
      "metadata": {
        "id": "abf4cf5f-c0cb-4fdb-be6b-271ae4e967e2",
        "outputId": "d391daab-ffec-4588-b7dc-bb3314694e95"
      },
      "outputs": [
        {
          "name": "stdout",
          "output_type": "stream",
          "text": [
            "=================================\u001b[1m Tool Message \u001b[0m=================================\n",
            "Name: multiply\n",
            "\n",
            "9\n",
            "==================================\u001b[1m Ai Message \u001b[0m==================================\n",
            "\n",
            "The result of multiplying 3 and 3 is 9.\n"
          ]
        }
      ],
      "source": [
        "# Continue the graph execution\n",
        "for event in graph.stream(None, thread, stream_mode=\"values\"):\n",
        "    event[\"messages\"][-1].pretty_print()"
      ]
    }
  ],
  "metadata": {
    "kernelspec": {
      "display_name": "Python 3 (ipykernel)",
      "language": "python",
      "name": "python3"
    },
    "language_info": {
      "codemirror_mode": {
        "name": "ipython",
        "version": 3
      },
      "file_extension": ".py",
      "mimetype": "text/x-python",
      "name": "python",
      "nbconvert_exporter": "python",
      "pygments_lexer": "ipython3",
      "version": "3.12.1"
    },
    "colab": {
      "provenance": [],
      "include_colab_link": true
    }
  },
  "nbformat": 4,
  "nbformat_minor": 5
}